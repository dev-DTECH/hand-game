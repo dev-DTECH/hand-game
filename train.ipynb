{
 "cells": [
  {
   "cell_type": "code",
   "execution_count": 1,
   "metadata": {
    "collapsed": true,
    "ExecuteTime": {
     "start_time": "2023-04-14T10:15:33.673732Z",
     "end_time": "2023-04-14T10:15:37.487825Z"
    }
   },
   "outputs": [
    {
     "name": "stderr",
     "output_type": "stream",
     "text": [
      "2023-04-14 10:15:33.738360: I tensorflow/core/platform/cpu_feature_guard.cc:193] This TensorFlow binary is optimized with oneAPI Deep Neural Network Library (oneDNN) to use the following CPU instructions in performance-critical operations:  AVX2 AVX512F AVX512_VNNI FMA\n",
      "To enable them in other operations, rebuild TensorFlow with the appropriate compiler flags.\n",
      "2023-04-14 10:15:33.928570: I tensorflow/core/util/port.cc:104] oneDNN custom operations are on. You may see slightly different numerical results due to floating-point round-off errors from different computation orders. To turn them off, set the environment variable `TF_ENABLE_ONEDNN_OPTS=0`.\n",
      "2023-04-14 10:15:33.935042: W tensorflow/compiler/xla/stream_executor/platform/default/dso_loader.cc:64] Could not load dynamic library 'libcudart.so.11.0'; dlerror: libcudart.so.11.0: cannot open shared object file: No such file or directory\n",
      "2023-04-14 10:15:33.935078: I tensorflow/compiler/xla/stream_executor/cuda/cudart_stub.cc:29] Ignore above cudart dlerror if you do not have a GPU set up on your machine.\n",
      "2023-04-14 10:15:35.315743: W tensorflow/compiler/xla/stream_executor/platform/default/dso_loader.cc:64] Could not load dynamic library 'libnvinfer.so.7'; dlerror: libnvinfer.so.7: cannot open shared object file: No such file or directory\n",
      "2023-04-14 10:15:35.315878: W tensorflow/compiler/xla/stream_executor/platform/default/dso_loader.cc:64] Could not load dynamic library 'libnvinfer_plugin.so.7'; dlerror: libnvinfer_plugin.so.7: cannot open shared object file: No such file or directory\n",
      "2023-04-14 10:15:35.315894: W tensorflow/compiler/tf2tensorrt/utils/py_utils.cc:38] TF-TRT Warning: Cannot dlopen some TensorRT libraries. If you would like to use Nvidia GPU with TensorRT, please make sure the missing libraries mentioned above are installed properly.\n"
     ]
    }
   ],
   "source": [
    "import tensorflow as tf\n",
    "import numpy as np\n",
    "from sklearn.model_selection import train_test_split\n",
    "import matplotlib.pyplot as plt\n",
    "from sklearn import svm, datasets\n",
    "from sklearn.model_selection import train_test_split\n",
    "from sklearn.metrics import confusion_matrix\n",
    "from sklearn.utils.multiclass import unique_labels"
   ]
  },
  {
   "cell_type": "code",
   "execution_count": 2,
   "outputs": [],
   "source": [
    "def plot_confusion_matrix(y_true, y_pred, classes,\n",
    "                          normalize=False,\n",
    "                          title=None,\n",
    "                          cmap=plt.cm.Blues):\n",
    "    \"\"\"\n",
    "    This function prints and plots the confusion matrix.\n",
    "    Normalization can be applied by setting `normalize=True`.\n",
    "    \"\"\"\n",
    "    if not title:\n",
    "        if normalize:\n",
    "            title = 'Normalized confusion matrix'\n",
    "        else:\n",
    "            title = 'Confusion matrix, without normalization'\n",
    "\n",
    "    # Compute confusion matrix\n",
    "    cm = confusion_matrix(y_true, y_pred)\n",
    "    # Only use the labels that appear in the data\n",
    "    classes = classes[unique_labels(y_true, y_pred)]\n",
    "    if normalize:\n",
    "        cm = cm.astype('float') / cm.sum(axis=1)[:, np.newaxis]\n",
    "        print(\"Normalized confusion matrix\")\n",
    "    else:\n",
    "        print('Confusion matrix, without normalization')\n",
    "\n",
    "    print(cm)\n",
    "\n",
    "    fig, ax = plt.subplots()\n",
    "    im = ax.imshow(cm, interpolation='nearest', cmap=cmap)\n",
    "    ax.figure.colorbar(im, ax=ax)\n",
    "    # We want to show all ticks...\n",
    "    ax.set(xticks=np.arange(cm.shape[1]),\n",
    "           yticks=np.arange(cm.shape[0]),\n",
    "           # ... and label them with the respective list entries\n",
    "           xticklabels=classes, yticklabels=classes,\n",
    "           title=title,\n",
    "           ylabel='True label',\n",
    "           xlabel='Predicted label')\n",
    "\n",
    "    # Rotate the tick labels and set their alignment.\n",
    "    plt.setp(ax.get_xticklabels(), rotation=45, ha=\"right\",\n",
    "             rotation_mode=\"anchor\")\n",
    "\n",
    "    # Loop over data dimensions and create text annotations.\n",
    "    fmt = '.2f' if normalize else 'd'\n",
    "    thresh = cm.max() / 2.\n",
    "    for i in range(cm.shape[0]):\n",
    "        for j in range(cm.shape[1]):\n",
    "            ax.text(j, i, format(cm[i, j], fmt),\n",
    "                    ha=\"center\", va=\"center\",\n",
    "                    color=\"white\" if cm[i, j] > thresh else \"black\")\n",
    "    fig.tight_layout()\n",
    "    # plt.xlim(-0.5, len(np.unique(y))-0.5)\n",
    "    # plt.ylim(len(np.unique(y))-0.5, -0.5)\n",
    "    return ax"
   ],
   "metadata": {
    "collapsed": false,
    "ExecuteTime": {
     "start_time": "2023-04-14T10:15:37.493162Z",
     "end_time": "2023-04-14T10:15:37.495498Z"
    }
   }
  },
  {
   "cell_type": "code",
   "execution_count": 4,
   "outputs": [
    {
     "name": "stdout",
     "output_type": "stream",
     "text": [
      "(1005, 42) (336, 42)\n"
     ]
    }
   ],
   "source": [
    "# hand_ds = tf.data.experimental.make_csv_dataset(\n",
    "#     'data.csv',\n",
    "#     batch_size=5, # Artificially small to make examples easier to show.\n",
    "#     label_name='label',\n",
    "#     num_epochs=1,\n",
    "#     ignore_errors=True,)\n",
    "data_x = np.loadtxt(\"data_manual.csv\", delimiter=\",\", dtype=float, usecols=list(range(1, (21 * 2) + 1)))\n",
    "data_y = np.loadtxt(\"data_manual.csv\", delimiter=\",\", dtype=float, usecols=(0))\n",
    "data_y=data_y.tolist()\n",
    "for i,d in enumerate(data_y):\n",
    "    ar=[0]*4\n",
    "    # print(int(d))\n",
    "    ar[int(d)]=1\n",
    "    data_y[i]=ar.copy()\n",
    "data_y=np.array(data_y)\n",
    "train_x, test_x, train_y, test_y = train_test_split(data_x, data_y, train_size=0.75, random_state=69)\n",
    "\n",
    "print(train_x.shape,test_x.shape)"
   ],
   "metadata": {
    "collapsed": false,
    "ExecuteTime": {
     "start_time": "2023-04-14T10:16:19.318976Z",
     "end_time": "2023-04-14T10:16:19.368555Z"
    }
   }
  },
  {
   "cell_type": "code",
   "execution_count": 10,
   "outputs": [
    {
     "name": "stdout",
     "output_type": "stream",
     "text": [
      "Model: \"sequential_3\"\n",
      "_________________________________________________________________\n",
      " Layer (type)                Output Shape              Param #   \n",
      "=================================================================\n",
      " dense_9 (Dense)             (None, 16)                688       \n",
      "                                                                 \n",
      " dense_10 (Dense)            (None, 8)                 136       \n",
      "                                                                 \n",
      " dense_11 (Dense)            (None, 4)                 36        \n",
      "                                                                 \n",
      "=================================================================\n",
      "Total params: 860\n",
      "Trainable params: 860\n",
      "Non-trainable params: 0\n",
      "_________________________________________________________________\n"
     ]
    }
   ],
   "source": [
    "model=tf.keras.models.Sequential([\n",
    "    tf.keras.layers.Input((42,)),\n",
    "    tf.keras.layers.Dense(16,activation='relu'),\n",
    "    # tf.keras.layers.Dropout(0.2),\n",
    "    tf.keras.layers.Dense(8,activation='relu'),\n",
    "    # tf.keras.layers.Dropout(0.2),\n",
    "    tf.keras.layers.Dense(4,activation='softmax')\n",
    "])\n",
    "model.compile(optimizer=tf.keras.optimizers.Adam(learning_rate=1e-3),\n",
    "              loss=tf.keras.losses.BinaryCrossentropy())\n",
    "model.summary()"
   ],
   "metadata": {
    "collapsed": false,
    "ExecuteTime": {
     "start_time": "2023-04-14T10:16:54.475830Z",
     "end_time": "2023-04-14T10:16:54.642237Z"
    }
   }
  },
  {
   "cell_type": "code",
   "execution_count": 11,
   "outputs": [
    {
     "name": "stdout",
     "output_type": "stream",
     "text": [
      "Epoch 1/50\n",
      "201/201 [==============================] - 1s 2ms/step - loss: 0.5341\n",
      "Epoch 2/50\n",
      "201/201 [==============================] - 0s 2ms/step - loss: 0.2981\n",
      "Epoch 3/50\n",
      "201/201 [==============================] - 0s 2ms/step - loss: 0.1739\n",
      "Epoch 4/50\n",
      "201/201 [==============================] - 0s 2ms/step - loss: 0.0639\n",
      "Epoch 5/50\n",
      "201/201 [==============================] - 0s 2ms/step - loss: 0.0252\n",
      "Epoch 6/50\n",
      "201/201 [==============================] - 1s 3ms/step - loss: 0.0144\n",
      "Epoch 7/50\n",
      "201/201 [==============================] - 0s 2ms/step - loss: 0.0101\n",
      "Epoch 8/50\n",
      "201/201 [==============================] - 0s 2ms/step - loss: 0.0076\n",
      "Epoch 9/50\n",
      "201/201 [==============================] - 0s 1ms/step - loss: 0.0062\n",
      "Epoch 10/50\n",
      "201/201 [==============================] - 1s 3ms/step - loss: 0.0053\n",
      "Epoch 11/50\n",
      "201/201 [==============================] - 0s 1ms/step - loss: 0.0043\n",
      "Epoch 12/50\n",
      "201/201 [==============================] - 0s 1ms/step - loss: 0.0038\n",
      "Epoch 13/50\n",
      "201/201 [==============================] - 0s 2ms/step - loss: 0.0033\n",
      "Epoch 14/50\n",
      "201/201 [==============================] - 0s 2ms/step - loss: 0.0027\n",
      "Epoch 15/50\n",
      "201/201 [==============================] - 0s 2ms/step - loss: 0.0025\n",
      "Epoch 16/50\n",
      "201/201 [==============================] - 0s 2ms/step - loss: 0.0019\n",
      "Epoch 17/50\n",
      "201/201 [==============================] - 0s 2ms/step - loss: 0.0017\n",
      "Epoch 18/50\n",
      "201/201 [==============================] - 0s 1ms/step - loss: 0.0013\n",
      "Epoch 19/50\n",
      "201/201 [==============================] - 0s 2ms/step - loss: 0.0011\n",
      "Epoch 20/50\n",
      "201/201 [==============================] - 0s 2ms/step - loss: 9.9029e-04\n",
      "Epoch 21/50\n",
      "201/201 [==============================] - 0s 2ms/step - loss: 8.7528e-04\n",
      "Epoch 22/50\n",
      "201/201 [==============================] - 0s 2ms/step - loss: 7.0399e-04\n",
      "Epoch 23/50\n",
      "201/201 [==============================] - 0s 2ms/step - loss: 6.9836e-04\n",
      "Epoch 24/50\n",
      "201/201 [==============================] - 0s 2ms/step - loss: 5.4114e-04\n",
      "Epoch 25/50\n",
      "201/201 [==============================] - 0s 2ms/step - loss: 4.6666e-04\n",
      "Epoch 26/50\n",
      "201/201 [==============================] - 0s 1ms/step - loss: 4.2152e-04\n",
      "Epoch 27/50\n",
      "201/201 [==============================] - 0s 2ms/step - loss: 4.0532e-04\n",
      "Epoch 28/50\n",
      "201/201 [==============================] - 1s 3ms/step - loss: 3.5100e-04\n",
      "Epoch 29/50\n",
      "201/201 [==============================] - 1s 2ms/step - loss: 2.8692e-04\n",
      "Epoch 30/50\n",
      "201/201 [==============================] - 0s 1ms/step - loss: 2.5562e-04\n",
      "Epoch 31/50\n",
      "201/201 [==============================] - 0s 2ms/step - loss: 2.2356e-04\n",
      "Epoch 32/50\n",
      "201/201 [==============================] - 0s 2ms/step - loss: 2.2299e-04\n",
      "Epoch 33/50\n",
      "201/201 [==============================] - 0s 2ms/step - loss: 3.0908e-04\n",
      "Epoch 34/50\n",
      "201/201 [==============================] - 0s 1ms/step - loss: 1.4537e-04\n",
      "Epoch 35/50\n",
      "201/201 [==============================] - 0s 1ms/step - loss: 1.4669e-04\n",
      "Epoch 36/50\n",
      "201/201 [==============================] - 0s 1ms/step - loss: 1.2416e-04\n",
      "Epoch 37/50\n",
      "201/201 [==============================] - 0s 1ms/step - loss: 1.1423e-04\n",
      "Epoch 38/50\n",
      "201/201 [==============================] - 0s 1ms/step - loss: 1.0519e-04\n",
      "Epoch 39/50\n",
      "201/201 [==============================] - 0s 2ms/step - loss: 8.6588e-05\n",
      "Epoch 40/50\n",
      "201/201 [==============================] - 0s 2ms/step - loss: 9.4716e-05\n",
      "Epoch 41/50\n",
      "201/201 [==============================] - 0s 2ms/step - loss: 7.7987e-05\n",
      "Epoch 42/50\n",
      "201/201 [==============================] - 0s 2ms/step - loss: 6.5908e-05\n",
      "Epoch 43/50\n",
      "201/201 [==============================] - 0s 1ms/step - loss: 6.6702e-05\n",
      "Epoch 44/50\n",
      "201/201 [==============================] - 0s 2ms/step - loss: 4.9628e-05\n",
      "Epoch 45/50\n",
      "201/201 [==============================] - 0s 2ms/step - loss: 5.3489e-05\n",
      "Epoch 46/50\n",
      "201/201 [==============================] - 0s 2ms/step - loss: 5.2110e-05\n",
      "Epoch 47/50\n",
      "201/201 [==============================] - 0s 1ms/step - loss: 4.1689e-05\n",
      "Epoch 48/50\n",
      "201/201 [==============================] - 0s 2ms/step - loss: 3.6213e-05\n",
      "Epoch 49/50\n",
      "201/201 [==============================] - 0s 2ms/step - loss: 3.1698e-05\n",
      "Epoch 50/50\n",
      "201/201 [==============================] - 0s 2ms/step - loss: 3.2220e-05\n"
     ]
    }
   ],
   "source": [
    "callback = tf.keras.callbacks.EarlyStopping(monitor='loss', patience=3)\n",
    "\n",
    "history = model.fit(x=train_x,y=train_y,batch_size=5,shuffle=True,epochs=50,callbacks=[callback])"
   ],
   "metadata": {
    "collapsed": false,
    "ExecuteTime": {
     "start_time": "2023-04-14T10:16:55.423494Z",
     "end_time": "2023-04-14T10:17:14.135900Z"
    }
   }
  },
  {
   "cell_type": "code",
   "execution_count": 12,
   "outputs": [
    {
     "data": {
      "text/plain": "<Figure size 640x480 with 1 Axes>",
      "image/png": "[encoded data removed]"
     },
     "metadata": {},
     "output_type": "display_data"
    }
   ],
   "source": [
    "plt.plot(history.epoch, history.history[\"loss\"], 'g', label='Training loss')\n",
    "plt.title('Training loss')\n",
    "plt.xlabel('Epochs')\n",
    "plt.ylabel('Loss')\n",
    "plt.legend()\n",
    "plt.show()\n"
   ],
   "metadata": {
    "collapsed": false,
    "ExecuteTime": {
     "start_time": "2023-04-14T10:17:19.325477Z",
     "end_time": "2023-04-14T10:17:20.231151Z"
    }
   }
  },
  {
   "cell_type": "code",
   "execution_count": 13,
   "outputs": [],
   "source": [
    "model.save(\"models/game-v1.h5\")"
   ],
   "metadata": {
    "collapsed": false,
    "ExecuteTime": {
     "start_time": "2023-04-14T10:17:24.994976Z",
     "end_time": "2023-04-14T10:17:25.062477Z"
    }
   }
  },
  {
   "cell_type": "code",
   "execution_count": 15,
   "outputs": [
    {
     "name": "stdout",
     "output_type": "stream",
     "text": [
      "11/11 [==============================] - 0s 2ms/step\n",
      "Accuracy = 1.0\n",
      "Normalized confusion matrix\n",
      "[[1. 0. 0. 0.]\n",
      " [0. 1. 0. 0.]\n",
      " [0. 0. 1. 0.]\n",
      " [0. 0. 0. 1.]]\n"
     ]
    },
    {
     "data": {
      "text/plain": "<Figure size 640x480 with 2 Axes>",
      "image/png": "[encoded data removed]"
     },
     "metadata": {},
     "output_type": "display_data"
    }
   ],
   "source": [
    "from sklearn import metrics\n",
    "\n",
    "prediction=model.predict(test_x)\n",
    "actual=[]\n",
    "predicted=[]\n",
    "c=0\n",
    "for i,p in enumerate(prediction):\n",
    "    predicted.append(np.argmax(p))\n",
    "    actual.append(np.argmax(test_y[i]))\n",
    "\n",
    "    if(predicted[i]==actual[i]):\n",
    "        c+=1\n",
    "print(f'Accuracy = {c/len(actual)}')\n",
    "\n",
    "\n",
    "# print(actual,predicted)\n",
    "class_names = np.array(['left',\"right\",'jump','slide'])\n",
    "\n",
    "plot_confusion_matrix(actual, predicted, classes=class_names, normalize=True,\n",
    "                      title='Normalized confusion matrix')\n",
    "\n",
    "plt.show()\n"
   ],
   "metadata": {
    "collapsed": false,
    "ExecuteTime": {
     "start_time": "2023-04-14T10:17:41.991383Z",
     "end_time": "2023-04-14T10:17:42.749816Z"
    }
   }
  },
  {
   "cell_type": "code",
   "execution_count": 17,
   "outputs": [
    {
     "name": "stderr",
     "output_type": "stream",
     "text": [
      "WARNING:absl:Found untraced functions such as _update_step_xla while saving (showing 1 of 1). These functions will not be directly callable after loading.\n"
     ]
    },
    {
     "name": "stdout",
     "output_type": "stream",
     "text": [
      "INFO:tensorflow:Assets written to: /tmp/tmpdhkn1_w1/assets\n"
     ]
    },
    {
     "name": "stderr",
     "output_type": "stream",
     "text": [
      "INFO:tensorflow:Assets written to: /tmp/tmpdhkn1_w1/assets\n",
      "2023-04-14 10:18:41.669899: W tensorflow/compiler/mlir/lite/python/tf_tfl_flatbuffer_helpers.cc:362] Ignored output_format.\n",
      "2023-04-14 10:18:41.670053: W tensorflow/compiler/mlir/lite/python/tf_tfl_flatbuffer_helpers.cc:365] Ignored drop_control_dependency.\n",
      "2023-04-14 10:18:41.670445: I tensorflow/cc/saved_model/reader.cc:45] Reading SavedModel from: /tmp/tmpdhkn1_w1\n",
      "2023-04-14 10:18:41.672986: I tensorflow/cc/saved_model/reader.cc:89] Reading meta graph with tags { serve }\n",
      "2023-04-14 10:18:41.673077: I tensorflow/cc/saved_model/reader.cc:130] Reading SavedModel debug info (if present) from: /tmp/tmpdhkn1_w1\n",
      "2023-04-14 10:18:41.684605: I tensorflow/cc/saved_model/loader.cc:229] Restoring SavedModel bundle.\n",
      "2023-04-14 10:18:41.794716: I tensorflow/cc/saved_model/loader.cc:213] Running initialization op on SavedModel bundle at path: /tmp/tmpdhkn1_w1\n",
      "2023-04-14 10:18:41.823627: I tensorflow/cc/saved_model/loader.cc:305] SavedModel load for tags { serve }; Status: success: OK. Took 153183 microseconds.\n"
     ]
    }
   ],
   "source": [
    "model= tf.keras.models.load_model(\"models/game-v1.h5\")\n",
    "converter = tf.lite.TFLiteConverter.from_keras_model(model)\n",
    "tflite_model = converter.convert()\n",
    "\n",
    "# Save the model.\n",
    "with open('models/game-v1.tflite', 'wb') as f:\n",
    "  f.write(tflite_model)"
   ],
   "metadata": {
    "collapsed": false,
    "ExecuteTime": {
     "start_time": "2023-04-14T10:18:39.906071Z",
     "end_time": "2023-04-14T10:18:42.161363Z"
    }
   }
  },
  {
   "cell_type": "code",
   "execution_count": null,
   "outputs": [],
   "source": [],
   "metadata": {
    "collapsed": false
   }
  }
 ],
 "metadata": {
  "kernelspec": {
   "display_name": "Python 3",
   "language": "python",
   "name": "python3"
  },
  "language_info": {
   "codemirror_mode": {
    "name": "ipython",
    "version": 2
   },
   "file_extension": ".py",
   "mimetype": "text/x-python",
   "name": "python",
   "nbconvert_exporter": "python",
   "pygments_lexer": "ipython2",
   "version": "2.7.6"
  }
 },
 "nbformat": 4,
 "nbformat_minor": 0
}
